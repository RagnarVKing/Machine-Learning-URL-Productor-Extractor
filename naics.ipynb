{
 "cells": [
  {
   "cell_type": "code",
   "execution_count": null,
   "metadata": {},
   "outputs": [],
   "source": [
    "with open('/home/oda/hack/new_data_set.txt') as f:\n",
    "\tcontent = f.readlines()\n",
    "content = [x.strip() for x in content]\n",
    "content = list(set(content))\n",
    "content = [x for x in content if x.startswith('[http')]\n",
    "content"
   ]
  },
  {
   "cell_type": "code",
   "execution_count": 1,
   "metadata": {},
   "outputs": [
    {
     "name": "stdout",
     "output_type": "stream",
     "text": [
      "s k iphone 11 ref nb_sb_noss_2\n"
     ]
    }
   ],
   "source": [
    "from urllib.parse import urlparse, parse_qs\n",
    "def custom_tokenize_url(url):\n",
    "    tokens = []\n",
    "    parsed_url = urlparse(url)\n",
    "    \n",
    "    # Tokenize the domain\n",
    "    path_tokens = parsed_url.path.split('/')\n",
    "    path_tokens = path_tokens[1:]\n",
    "    tokens.extend(filter(None, path_tokens))\n",
    "    # Tokenize the query string\n",
    "    query_tokens = []\n",
    "    query_params = parse_qs(parsed_url.query)\n",
    "    for param, values in query_params.items():\n",
    "        query_tokens.append(param)\n",
    "        query_tokens.extend(values)\n",
    "    tokens.extend(query_tokens)\n",
    "    \n",
    "    # Remove empty tokens and return\n",
    "    return ' '.join(filter(None, tokens))\n",
    "\n",
    "tokenized = custom_tokenize_url('https://www.amazon.com/s?k=iphone+11&ref=nb_sb_noss_2')\n",
    "print(tokenized)"
   ]
  },
  {
   "cell_type": "code",
   "execution_count": null,
   "metadata": {},
   "outputs": [],
   "source": [
    "from urllib.parse import urlparse, parse_qs\n",
    "\n",
    "def custom_tokenize_url(url):\n",
    "    tokens = []\n",
    "    parsed_url = urlparse(url)\n",
    "    \n",
    "    # Tokenize the domain\n",
    "    path_tokens = parsed_url.path.split('/')\n",
    "    path_tokens = path_tokens[1:]\n",
    "    tokens.extend(filter(None, path_tokens))\n",
    "    # Tokenize the query string\n",
    "    query_tokens = []\n",
    "    query_params = parse_qs(parsed_url.query)\n",
    "    for param, values in query_params.items():\n",
    "        query_tokens.append(param)\n",
    "        query_tokens.extend(values)\n",
    "    tokens.extend(query_tokens)\n",
    "    \n",
    "    # Remove empty tokens and return\n",
    "    return ' '.join(filter(None, tokens))\n",
    "\n",
    "content = [x.strip() for x in content]\n",
    "import re\n",
    "import pandas as pd\n",
    "new_df = pd.DataFrame(columns=['url', 'label', 'name', 'category'])\n",
    "index = 0\n",
    "\n",
    "for i in range(len(content)):\n",
    "    print(i)\n",
    "    split = content[i].replace('[', '').replace(']', '').split(',')\n",
    "    if len(split) == 4:\n",
    "        new_df.loc[i] = [split[0], split[1], split[2], split[3]]\n",
    "\n",
    "\n",
    "new_df['encoded_label'] = [1 if 'product' in x else 0 for x in new_df['label']]\n",
    "new_df['url'] = [x.replace('https://', '').replace('\"', '').strip() for x in new_df['url']]\n",
    "new_df['url_tokens'] = new_df['url'].apply(custom_tokenize_url)\n"
   ]
  },
  {
   "cell_type": "code",
   "execution_count": null,
   "metadata": {},
   "outputs": [],
   "source": [
    "# we now have to build the pipeline\n",
    "from transformers import DistilBertForSequenceClassification, DistilBertTokenizer, AutoModelForSequenceClassification, AutoTokenizer\n",
    "from sklearn.model_selection import train_test_split\n",
    "from datasets import Dataset\n",
    "import pyarrow as pa\n",
    "from transformers import TrainingArguments, Trainer\n",
    "import torch\n",
    "from sklearn.metrics import precision_recall_fscore_support, accuracy_score\n",
    "\n",
    "class TrainModel():\n",
    "\tdef __init__(self):\n",
    "\t\tself.model = AutoModelForSequenceClassification.from_pretrained('distilbert-base-uncased', num_labels=2)\n",
    "\t\tself.tokenizer = AutoTokenizer.from_pretrained('distilbert-base-uncased')\n",
    "\n",
    "\tdef process_data(self, row):\n",
    "\t\ttext = row['url_tokens']\n",
    "\t\ttext = str(text)\n",
    "\t\ttext = ' '.join(text.split())\n",
    "\t\tencodings = self.tokenizer(text,truncation=True, padding='max_length', max_length=32)\n",
    "\t\tencodings['label'] = row['encoded_label']\n",
    "\t\tencodings['url'] = row['url']\n",
    "\t\treturn encodings\n",
    "\n",
    "\tdef prepare_data(self, df):\n",
    "\t\tprocessed_data = [self.process_data(df.iloc[i]) for i in range(1,df.shape[0])]\n",
    "\t\tnew_df = pd.DataFrame(processed_data)\n",
    "\t\ttrain_df, valid_df = train_test_split(\n",
    "\t\t\tnew_df,\n",
    "\t\t\ttest_size=0.19,\n",
    "\t\t\trandom_state=2022\n",
    "\t\t)\n",
    "\t\ttrain_hg = Dataset(pa.Table.from_pandas(train_df)).shuffle(seed=2022)\n",
    "\t\tvalid_hg = Dataset(pa.Table.from_pandas(valid_df)).shuffle(seed=2022)\n",
    "\t\treturn train_hg, valid_hg\n",
    "\n",
    "\tdef compute_metrics(self, pred):\n",
    "\t\tlabels = pred.label_ids\n",
    "\t\tpreds = pred.predictions.argmax(-1)\n",
    "\t\tprecision, recall, f1, _ = precision_recall_fscore_support(labels, preds, average='binary')\n",
    "\t\tacc = accuracy_score(labels, preds)\n",
    "\t\treturn {\n",
    "\t\t\t'accuracy': acc,\n",
    "\t\t\t'f1': f1,\n",
    "\t\t\t'precision': precision,\n",
    "\t\t\t'recall': recall\n",
    "\t\t}\n",
    "\n",
    "\tdef train_model(self, train_hg, valid_hg, output_dir, output_logs):\n",
    "\t\tdevice = torch.device('cuda' if torch.cuda.is_available() else 'cpu')\n",
    "\t\tself.model.to(device)\n",
    "\t\t\n",
    "\t\tfor param in self.model.base_model.parameters():\n",
    "\t\t\tparam.requires_grad = False\n",
    "\n",
    "\t\tfor param in self.model.classifier.parameters():\n",
    "\t\t\tparam.requires_grad = True\n",
    "\t\t\n",
    "\t\ttraining_args = TrainingArguments(\n",
    "\t\t\toutput_dir=output_dir,\n",
    "\t\t\tnum_train_epochs=20,\n",
    "\t\t\tper_device_train_batch_size=16,\n",
    "\t\t\tper_device_eval_batch_size=64,\n",
    "\t\t\twarmup_steps=1000,\n",
    "\t\t\tlogging_dir=output_logs ,  # Specify GPU device\n",
    "\t\t)\n",
    "\n",
    "\t\ttrainer = Trainer(\n",
    "\t\t\tmodel=self.model,\n",
    "\t\t\targs=training_args,\n",
    "\t\t\ttrain_dataset=train_hg,\n",
    "\t\t\teval_dataset=valid_hg,\n",
    "\t\t\tcompute_metrics=self.compute_metrics,\n",
    "\t\t\ttokenizer=self.tokenizer\n",
    "\t\t\t)\n",
    "\t\ttrainer.train()\n",
    "\t\ttrainer.save_model('150k_model2')\n",
    "\t\treturn trainer\n",
    "\n",
    "trainer = TrainModel()\n",
    "train_hg, valid_hg = trainer.prepare_data(new_df)"
   ]
  },
  {
   "cell_type": "code",
   "execution_count": null,
   "metadata": {},
   "outputs": [],
   "source": [
    "train_model = trainer.train_model(train_hg, valid_hg, 'output_dir3', './output_log3')"
   ]
  },
  {
   "cell_type": "code",
   "execution_count": null,
   "metadata": {},
   "outputs": [],
   "source": [
    "def get_prediction(tokenizer, model, text):\n",
    "\tencoding = tokenizer(text, return_tensors='pt', truncation=True, padding='max_length', max_length=32)\n",
    "\toutputs = model(**encoding)\n",
    "\tlogits = outputs.logits\n",
    "\tprobs = torch.nn.functional.softmax(logits, dim=-1)\n",
    "\tlabel = torch.argmax(probs).item()\n",
    "\treturn label"
   ]
  },
  {
   "cell_type": "code",
   "execution_count": null,
   "metadata": {},
   "outputs": [],
   "source": [
    "custom_tokenize_url('https://www.amazon.com/s?k=iphone+11&ref=nb_sb_noss_2')"
   ]
  },
  {
   "cell_type": "code",
   "execution_count": null,
   "metadata": {},
   "outputs": [],
   "source": [
    "valid_hg"
   ]
  },
  {
   "cell_type": "code",
   "execution_count": null,
   "metadata": {},
   "outputs": [],
   "source": [
    "tokenizer = AutoTokenizer.from_pretrained('distilbert-base-uncased')\n",
    "model = AutoModelForSequenceClassification.from_pretrained('/home/oda/hack/output_dir2/checkpoint-150500')\n",
    "\n",
    "get_prediction(tokenizer, model, custom_tokenize_url('https://ocheche.store/sun/ru/tproduct/507267910-936288484151-eyerepublic'))"
   ]
  },
  {
   "cell_type": "code",
   "execution_count": null,
   "metadata": {},
   "outputs": [],
   "source": [
    "count = 0\n",
    "for i in range(1,valid_hg.shape[0]):\n",
    "\tprint(i)\n",
    "\tprediction = get_prediction(tokenizer, model, custom_tokenize_url(valid_hg[i]['url']))\n",
    "\tif prediction == valid_hg[i]['label']:\n",
    "\t\tcount += 1\n",
    "\t\n",
    "count"
   ]
  },
  {
   "cell_type": "code",
   "execution_count": null,
   "metadata": {},
   "outputs": [],
   "source": [
    "from sklearn.metrics import precision_recall_fscore_support, accuracy_score\n",
    "from sklearn.metrics import precision_score, recall_score, f1_score\n",
    "y_test = [get_prediction(tokenizer, model, custom_tokenize_url(valid_hg[i]['url'])) for i in range(valid_hg.shape[0])]\n",
    "y_pred = valid_hg['label']\n",
    "\n",
    "accuracy = accuracy_score(y_pred, y_test)\n",
    "precision = precision_score(y_pred, y_test)\n",
    "recall = recall_score(y_pred, y_test, average='macro')\n",
    "f1 = f1_score(y_pred, y_test, average='macro')\n",
    "\n",
    "print(f'Accuracy: {accuracy}')\n",
    "print(f'Precision: {precision}')\n",
    "print(f'Recall: {recall}')\n",
    "print(f'F1: {f1}')\n"
   ]
  },
  {
   "cell_type": "code",
   "execution_count": null,
   "metadata": {},
   "outputs": [],
   "source": [
    "range(valid_hg.shape[0])"
   ]
  }
 ],
 "metadata": {
  "kernelspec": {
   "display_name": "Python 3",
   "language": "python",
   "name": "python3"
  },
  "language_info": {
   "codemirror_mode": {
    "name": "ipython",
    "version": 3
   },
   "file_extension": ".py",
   "mimetype": "text/x-python",
   "name": "python",
   "nbconvert_exporter": "python",
   "pygments_lexer": "ipython3",
   "version": "3.10.12 (main, Nov 20 2023, 15:14:05) [GCC 11.4.0]"
  },
  "vscode": {
   "interpreter": {
    "hash": "e7370f93d1d0cde622a1f8e1c04877d8463912d04d973331ad4851f04de6915a"
   }
  }
 },
 "nbformat": 4,
 "nbformat_minor": 2
}
