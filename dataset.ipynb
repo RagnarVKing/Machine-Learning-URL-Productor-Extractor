{
 "cells": [
  {
   "cell_type": "code",
   "execution_count": 10,
   "metadata": {},
   "outputs": [],
   "source": [
    "from openai import OpenAI\n",
    "\n",
    "def askGpt(string, idx):\n",
    "    message = string\n",
    "    response = client.chat.completions.create(\n",
    "        model=\"gpt-4-turbo\",\n",
    "        temperature=0.0,\n",
    "        messages=[\n",
    "            {\"role\": \"system\", \"content\": \"You are a data scientist working for a company that sells products online. \\\n",
    "                You will be given a list of URLs and you need to determine which of them contain a product name. You need to \\\n",
    "                output the result as a list of touples looking like this: \\n\\\n",
    "                [URL, 'product', <product name>, <category>] if you find the product and the category in the URL, \\n \\\n",
    "                [URL, 'product', <product name>, 'none'] if you don't find the product category in the URL, \\n \\\n",
    "                [URL, 'none', 'none', 'none'] if you don't find the product. \\n \\\n",
    "                You need to output only the list of touples with no additional comments. Add a newline after every result. \\n \\\n",
    "                BE CAREFUL! THE URL MIGHT NOT BE IN ENGLISH! \\n \\\n",
    "                MAKE SURE TO INCLUDE SQUARE BRACKETS AT EVERY TOUPLE! \\n \\\n",
    "                For example, if the URL is 'https://www.sellosdegomaonline.com/sellos-para-ropa/?mobile=1', the output should look like this: \\n \\\n",
    "                [https://www.sellosdegomaonline.com/sellos-para-ropa/?mobile=1, 'product', 'sellos para ropa', 'none'] \\n \\\n",
    "                And if the URL is 'http://www.indiaunozero.it/catalogo/Faretti-Lampeggianti.aspx', the output should look like this: \\n \\\n",
    "                [http://www.indiaunozero.it/catalogo/Faretti-Lampeggianti.aspx, 'product', 'Faretti-Lampeggianti', 'catalog'] \\n \\\n",
    "                And if the URL is 'https://www.armonia-shop.ch/Faerbende-Lebensmittel/', the output should look like this: \\n \\\n",
    "                [https://www.armonia-shop.ch/Faerbende-Lebensmittel/, 'product', 'Faerbende-Lebensmittel', 'none'] \\n \\\n",
    "                And if the URL is 'https://zo-on.is/collections/black-label', the output should look like this: \\n \\\n",
    "                [https://zo-on.is/collections/black-label, 'none', 'none', 'none'] \\n \\\n",
    "                And if the URL is 'https://www.uds.sk/contact/', the output should look like this: \\n \\\n",
    "                [https://www.sonpin.com.tw/product/14386?page=1, 'none', 'none', 'none'] \\n \\\n",
    "                And if the URL is 'https://www.sonpin.com.tw/product/', the output should look like this: \\n \\\n",
    "                [https://www.sonpin.com.tw/product/, 'none', 'none', 'none'] \\n\"},\n",
    "            {\"role\": \"user\", \"content\": message}\n",
    "        ]\n",
    "    )\n",
    "    with open(\"darul_meu_pentru_oprisor1\" + str(idx) + \".txt\", \"a\", encoding=\"utf-8\") as file:\n",
    "        file.write(response.choices[0].message.content)\n",
    "        file.write(\"\\n\")"
   ]
  },
  {
   "cell_type": "code",
   "execution_count": 11,
   "metadata": {},
   "outputs": [],
   "source": [
    "import pandas as pd\n",
    "\n",
    "df = pd.read_csv(\"url_tokens.csv\")\n",
    "\n",
    "def process(df, idx):\n",
    "    result = \"\"\n",
    "    for i in range(len(df)):\n",
    "        result += df.iloc[i][\"url\"] + \", \"\n",
    "        if i % 5 == 4:\n",
    "            print(i)\n",
    "            askGpt(result, idx)\n",
    "            result = \"\" \n"
   ]
  },
  {
   "cell_type": "code",
   "execution_count": 12,
   "metadata": {},
   "outputs": [
    {
     "name": "stdout",
     "output_type": "stream",
     "text": [
      "0 10\n",
      "4\n",
      "10 20\n",
      "4\n",
      "20 30\n",
      "4\n",
      "30 40\n",
      "4\n",
      "40 50\n",
      "50 60\n",
      "4\n",
      "4\n",
      "60 70\n",
      "4\n",
      "70 80\n",
      "4\n",
      "80 90\n",
      "4\n",
      "90 100\n",
      "4\n",
      "9\n",
      "9\n",
      "9\n",
      "9\n",
      "9\n",
      "9\n",
      "9\n",
      "9\n",
      "9\n",
      "9\n"
     ]
    }
   ],
   "source": [
    "import threading\n",
    "\n",
    "total = 500\n",
    "numOfThreads = 10\n",
    "threads = []\n",
    "len_per_thread = total // numOfThreads\n",
    "\n",
    "for i in range(numOfThreads):\n",
    "    print (i * len_per_thread, (i + 1) * len_per_thread)\n",
    "    segment = df[i * len_per_thread:(i + 1) * len_per_thread]\n",
    "    thread = threading.Thread(target=process, args=(segment,i,))\n",
    "    thread.start()\n",
    "    threads.append(thread)\n",
    "\n",
    "for thread in threads:\n",
    "    thread.join()\n"
   ]
  }
 ],
 "metadata": {
  "kernelspec": {
   "display_name": "Python 3",
   "language": "python",
   "name": "python3"
  },
  "language_info": {
   "codemirror_mode": {
    "name": "ipython",
    "version": 3
   },
   "file_extension": ".py",
   "mimetype": "text/x-python",
   "name": "python",
   "nbconvert_exporter": "python",
   "pygments_lexer": "ipython3",
   "version": "3.10.12 (main, Nov 20 2023, 15:14:05) [GCC 11.4.0]"
  },
  "vscode": {
   "interpreter": {
    "hash": "e7370f93d1d0cde622a1f8e1c04877d8463912d04d973331ad4851f04de6915a"
   }
  }
 },
 "nbformat": 4,
 "nbformat_minor": 2
}
